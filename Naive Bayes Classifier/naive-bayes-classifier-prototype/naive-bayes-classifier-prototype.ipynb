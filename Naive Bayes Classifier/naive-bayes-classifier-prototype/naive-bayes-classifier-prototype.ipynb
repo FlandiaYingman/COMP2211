{
 "cells": [
  {
   "cell_type": "markdown",
   "id": "2979d62c0b275486",
   "metadata": {},
   "source": [
    "# Naive Bayes Classifier Prototype\n",
    "\n",
    "This is the implementation of mine *Naive Bayes Classifier*."
   ]
  },
  {
   "cell_type": "code",
   "execution_count": 1,
   "id": "4a6e67a46d874396",
   "metadata": {
    "ExecuteTime": {
     "end_time": "2023-09-25T16:32:09.388615200Z",
     "start_time": "2023-09-25T16:32:08.668149500Z"
    }
   },
   "outputs": [],
   "source": [
    "import numpy as np\n",
    "import pandas as pd"
   ]
  },
  {
   "cell_type": "markdown",
   "id": "2a64cae2",
   "metadata": {},
   "source": [
    "## Preparing Datasets"
   ]
  },
  {
   "cell_type": "markdown",
   "id": "81af01fa6ecdcf6c",
   "metadata": {},
   "source": [
    "First, let's prepare our data set. \n",
    "\n",
    "For the values like 'High', 'Normal' and 'Low', we convert them into ints like 2, 1 and 0.\n",
    "\n",
    "For the values like 'Yes' and 'No', we convert them into ints like 1 and 0."
   ]
  },
  {
   "cell_type": "code",
   "execution_count": 2,
   "id": "bec3aae1ba38016f",
   "metadata": {
    "ExecuteTime": {
     "end_time": "2023-09-25T16:32:09.410710900Z",
     "start_time": "2023-09-25T16:32:09.388615200Z"
    }
   },
   "outputs": [
    {
     "data": {
      "text/plain": "     Blood Pressure     Fever Diabetes Vomit Suffering from disease Z\nData                                                                 \n1              High      High      Yes    No                       No\n2              High      High      Yes   Yes                       No\n3               Low      High      Yes    No                      Yes\n4            Normal      Mild      Yes    No                      Yes\n5            Normal  No fever       No    No                      Yes\n6            Normal  No fever       No   Yes                       No\n7               Low  No fever       No   Yes                      Yes\n8              High      Mild      Yes    No                       No\n9              High  No fever       No    No                      Yes\n10           Normal      Mild       No    No                      Yes\n11             High      Mild       No   Yes                      Yes\n12              Low      Mild      Yes   Yes                      Yes\n13              Low      High       No    No                      Yes\n14           Normal      Mild      Yes   Yes                       No",
      "text/html": "<div>\n<style scoped>\n    .dataframe tbody tr th:only-of-type {\n        vertical-align: middle;\n    }\n\n    .dataframe tbody tr th {\n        vertical-align: top;\n    }\n\n    .dataframe thead th {\n        text-align: right;\n    }\n</style>\n<table border=\"1\" class=\"dataframe\">\n  <thead>\n    <tr style=\"text-align: right;\">\n      <th></th>\n      <th>Blood Pressure</th>\n      <th>Fever</th>\n      <th>Diabetes</th>\n      <th>Vomit</th>\n      <th>Suffering from disease Z</th>\n    </tr>\n    <tr>\n      <th>Data</th>\n      <th></th>\n      <th></th>\n      <th></th>\n      <th></th>\n      <th></th>\n    </tr>\n  </thead>\n  <tbody>\n    <tr>\n      <th>1</th>\n      <td>High</td>\n      <td>High</td>\n      <td>Yes</td>\n      <td>No</td>\n      <td>No</td>\n    </tr>\n    <tr>\n      <th>2</th>\n      <td>High</td>\n      <td>High</td>\n      <td>Yes</td>\n      <td>Yes</td>\n      <td>No</td>\n    </tr>\n    <tr>\n      <th>3</th>\n      <td>Low</td>\n      <td>High</td>\n      <td>Yes</td>\n      <td>No</td>\n      <td>Yes</td>\n    </tr>\n    <tr>\n      <th>4</th>\n      <td>Normal</td>\n      <td>Mild</td>\n      <td>Yes</td>\n      <td>No</td>\n      <td>Yes</td>\n    </tr>\n    <tr>\n      <th>5</th>\n      <td>Normal</td>\n      <td>No fever</td>\n      <td>No</td>\n      <td>No</td>\n      <td>Yes</td>\n    </tr>\n    <tr>\n      <th>6</th>\n      <td>Normal</td>\n      <td>No fever</td>\n      <td>No</td>\n      <td>Yes</td>\n      <td>No</td>\n    </tr>\n    <tr>\n      <th>7</th>\n      <td>Low</td>\n      <td>No fever</td>\n      <td>No</td>\n      <td>Yes</td>\n      <td>Yes</td>\n    </tr>\n    <tr>\n      <th>8</th>\n      <td>High</td>\n      <td>Mild</td>\n      <td>Yes</td>\n      <td>No</td>\n      <td>No</td>\n    </tr>\n    <tr>\n      <th>9</th>\n      <td>High</td>\n      <td>No fever</td>\n      <td>No</td>\n      <td>No</td>\n      <td>Yes</td>\n    </tr>\n    <tr>\n      <th>10</th>\n      <td>Normal</td>\n      <td>Mild</td>\n      <td>No</td>\n      <td>No</td>\n      <td>Yes</td>\n    </tr>\n    <tr>\n      <th>11</th>\n      <td>High</td>\n      <td>Mild</td>\n      <td>No</td>\n      <td>Yes</td>\n      <td>Yes</td>\n    </tr>\n    <tr>\n      <th>12</th>\n      <td>Low</td>\n      <td>Mild</td>\n      <td>Yes</td>\n      <td>Yes</td>\n      <td>Yes</td>\n    </tr>\n    <tr>\n      <th>13</th>\n      <td>Low</td>\n      <td>High</td>\n      <td>No</td>\n      <td>No</td>\n      <td>Yes</td>\n    </tr>\n    <tr>\n      <th>14</th>\n      <td>Normal</td>\n      <td>Mild</td>\n      <td>Yes</td>\n      <td>Yes</td>\n      <td>No</td>\n    </tr>\n  </tbody>\n</table>\n</div>"
     },
     "execution_count": 2,
     "metadata": {},
     "output_type": "execute_result"
    }
   ],
   "source": [
    "raw_data = pd.read_csv('./data.csv')\n",
    "raw_data = raw_data.set_index('Data')\n",
    "raw_data"
   ]
  },
  {
   "cell_type": "code",
   "execution_count": 3,
   "id": "909b63e3731fdc51",
   "metadata": {
    "ExecuteTime": {
     "end_time": "2023-09-25T16:32:09.488173Z",
     "start_time": "2023-09-25T16:32:09.420451300Z"
    }
   },
   "outputs": [
    {
     "data": {
      "text/plain": "      Blood Pressure  Fever  Diabetes  Vomit\nData                                        \n1                  2      2         1      0\n2                  2      2         1      1\n3                  0      2         1      0\n4                  1      1         1      0\n5                  1      0         0      0\n6                  1      0         0      1\n7                  0      0         0      1\n8                  2      1         1      0\n9                  2      0         0      0\n10                 1      1         0      0\n11                 2      1         0      1\n12                 0      1         1      1\n13                 0      2         0      0\n14                 1      1         1      1",
      "text/html": "<div>\n<style scoped>\n    .dataframe tbody tr th:only-of-type {\n        vertical-align: middle;\n    }\n\n    .dataframe tbody tr th {\n        vertical-align: top;\n    }\n\n    .dataframe thead th {\n        text-align: right;\n    }\n</style>\n<table border=\"1\" class=\"dataframe\">\n  <thead>\n    <tr style=\"text-align: right;\">\n      <th></th>\n      <th>Blood Pressure</th>\n      <th>Fever</th>\n      <th>Diabetes</th>\n      <th>Vomit</th>\n    </tr>\n    <tr>\n      <th>Data</th>\n      <th></th>\n      <th></th>\n      <th></th>\n      <th></th>\n    </tr>\n  </thead>\n  <tbody>\n    <tr>\n      <th>1</th>\n      <td>2</td>\n      <td>2</td>\n      <td>1</td>\n      <td>0</td>\n    </tr>\n    <tr>\n      <th>2</th>\n      <td>2</td>\n      <td>2</td>\n      <td>1</td>\n      <td>1</td>\n    </tr>\n    <tr>\n      <th>3</th>\n      <td>0</td>\n      <td>2</td>\n      <td>1</td>\n      <td>0</td>\n    </tr>\n    <tr>\n      <th>4</th>\n      <td>1</td>\n      <td>1</td>\n      <td>1</td>\n      <td>0</td>\n    </tr>\n    <tr>\n      <th>5</th>\n      <td>1</td>\n      <td>0</td>\n      <td>0</td>\n      <td>0</td>\n    </tr>\n    <tr>\n      <th>6</th>\n      <td>1</td>\n      <td>0</td>\n      <td>0</td>\n      <td>1</td>\n    </tr>\n    <tr>\n      <th>7</th>\n      <td>0</td>\n      <td>0</td>\n      <td>0</td>\n      <td>1</td>\n    </tr>\n    <tr>\n      <th>8</th>\n      <td>2</td>\n      <td>1</td>\n      <td>1</td>\n      <td>0</td>\n    </tr>\n    <tr>\n      <th>9</th>\n      <td>2</td>\n      <td>0</td>\n      <td>0</td>\n      <td>0</td>\n    </tr>\n    <tr>\n      <th>10</th>\n      <td>1</td>\n      <td>1</td>\n      <td>0</td>\n      <td>0</td>\n    </tr>\n    <tr>\n      <th>11</th>\n      <td>2</td>\n      <td>1</td>\n      <td>0</td>\n      <td>1</td>\n    </tr>\n    <tr>\n      <th>12</th>\n      <td>0</td>\n      <td>1</td>\n      <td>1</td>\n      <td>1</td>\n    </tr>\n    <tr>\n      <th>13</th>\n      <td>0</td>\n      <td>2</td>\n      <td>0</td>\n      <td>0</td>\n    </tr>\n    <tr>\n      <th>14</th>\n      <td>1</td>\n      <td>1</td>\n      <td>1</td>\n      <td>1</td>\n    </tr>\n  </tbody>\n</table>\n</div>"
     },
     "execution_count": 3,
     "metadata": {},
     "output_type": "execute_result"
    }
   ],
   "source": [
    "def map_blood_pressure(s: str) -> int:\n",
    "    match s:\n",
    "        case 'High':\n",
    "            return 2\n",
    "        case 'Normal':\n",
    "            return 1\n",
    "        case 'Low':\n",
    "            return 0\n",
    "\n",
    "\n",
    "def map_fever(s: str) -> int:\n",
    "    match s:\n",
    "        case 'High':\n",
    "            return 2\n",
    "        case 'Mild':\n",
    "            return 1\n",
    "        case 'No fever':\n",
    "            return 0\n",
    "\n",
    "\n",
    "def map_diabetes(s: str) -> float:\n",
    "    match s:\n",
    "        case 'Yes':\n",
    "            return 1\n",
    "        case 'No':\n",
    "            return 0\n",
    "\n",
    "\n",
    "def map_vomit(s: str) -> float:\n",
    "    match s:\n",
    "        case 'Yes':\n",
    "            return 1\n",
    "        case 'No':\n",
    "            return 0\n",
    "\n",
    "\n",
    "evidence = raw_data.drop(columns='Suffering from disease Z')\n",
    "evidence['Blood Pressure'] = evidence['Blood Pressure'].map(map_blood_pressure)\n",
    "evidence['Fever'] = evidence['Fever'].map(map_fever)\n",
    "evidence['Diabetes'] = evidence['Diabetes'].map(map_diabetes)\n",
    "evidence['Vomit'] = evidence['Vomit'].map(map_vomit)\n",
    "evidence"
   ]
  },
  {
   "cell_type": "code",
   "execution_count": 4,
   "id": "2882e4430df82718",
   "metadata": {
    "ExecuteTime": {
     "end_time": "2023-09-25T16:32:09.491173400Z",
     "start_time": "2023-09-25T16:32:09.429398900Z"
    }
   },
   "outputs": [
    {
     "data": {
      "text/plain": "      Suffering from disease Z\nData                          \n1                            0\n2                            0\n3                            1\n4                            1\n5                            1\n6                            0\n7                            1\n8                            0\n9                            1\n10                           1\n11                           1\n12                           1\n13                           1\n14                           0",
      "text/html": "<div>\n<style scoped>\n    .dataframe tbody tr th:only-of-type {\n        vertical-align: middle;\n    }\n\n    .dataframe tbody tr th {\n        vertical-align: top;\n    }\n\n    .dataframe thead th {\n        text-align: right;\n    }\n</style>\n<table border=\"1\" class=\"dataframe\">\n  <thead>\n    <tr style=\"text-align: right;\">\n      <th></th>\n      <th>Suffering from disease Z</th>\n    </tr>\n    <tr>\n      <th>Data</th>\n      <th></th>\n    </tr>\n  </thead>\n  <tbody>\n    <tr>\n      <th>1</th>\n      <td>0</td>\n    </tr>\n    <tr>\n      <th>2</th>\n      <td>0</td>\n    </tr>\n    <tr>\n      <th>3</th>\n      <td>1</td>\n    </tr>\n    <tr>\n      <th>4</th>\n      <td>1</td>\n    </tr>\n    <tr>\n      <th>5</th>\n      <td>1</td>\n    </tr>\n    <tr>\n      <th>6</th>\n      <td>0</td>\n    </tr>\n    <tr>\n      <th>7</th>\n      <td>1</td>\n    </tr>\n    <tr>\n      <th>8</th>\n      <td>0</td>\n    </tr>\n    <tr>\n      <th>9</th>\n      <td>1</td>\n    </tr>\n    <tr>\n      <th>10</th>\n      <td>1</td>\n    </tr>\n    <tr>\n      <th>11</th>\n      <td>1</td>\n    </tr>\n    <tr>\n      <th>12</th>\n      <td>1</td>\n    </tr>\n    <tr>\n      <th>13</th>\n      <td>1</td>\n    </tr>\n    <tr>\n      <th>14</th>\n      <td>0</td>\n    </tr>\n  </tbody>\n</table>\n</div>"
     },
     "execution_count": 4,
     "metadata": {},
     "output_type": "execute_result"
    }
   ],
   "source": [
    "def map_suffering_from_disease_z(s: str) -> float:\n",
    "    match s:\n",
    "        case 'Yes':\n",
    "            return 1\n",
    "        case 'No':\n",
    "            return 0\n",
    "\n",
    "\n",
    "belief = raw_data[['Suffering from disease Z']].copy()\n",
    "belief['Suffering from disease Z'] = belief['Suffering from disease Z'].map(map_suffering_from_disease_z)\n",
    "belief"
   ]
  },
  {
   "cell_type": "markdown",
   "id": "c95a4403ca7b5a1a",
   "metadata": {},
   "source": [
    "Second, convert them into NumPy matrix / vector."
   ]
  },
  {
   "cell_type": "code",
   "execution_count": 5,
   "id": "8497433c5d8d6799",
   "metadata": {
    "ExecuteTime": {
     "end_time": "2023-09-25T16:32:09.492345Z",
     "start_time": "2023-09-25T16:32:09.445623300Z"
    }
   },
   "outputs": [
    {
     "data": {
      "text/plain": "array([[2, 2, 1, 0],\n       [2, 2, 1, 1],\n       [0, 2, 1, 0],\n       [1, 1, 1, 0],\n       [1, 0, 0, 0],\n       [1, 0, 0, 1],\n       [0, 0, 0, 1],\n       [2, 1, 1, 0],\n       [2, 0, 0, 0],\n       [1, 1, 0, 0],\n       [2, 1, 0, 1],\n       [0, 1, 1, 1],\n       [0, 2, 0, 0],\n       [1, 1, 1, 1]], dtype=int64)"
     },
     "execution_count": 5,
     "metadata": {},
     "output_type": "execute_result"
    }
   ],
   "source": [
    "evidence = np.array(evidence)\n",
    "evidence"
   ]
  },
  {
   "cell_type": "code",
   "execution_count": 6,
   "id": "15d4868bf7d77da",
   "metadata": {
    "ExecuteTime": {
     "end_time": "2023-09-25T16:32:09.492850800Z",
     "start_time": "2023-09-25T16:32:09.455547900Z"
    }
   },
   "outputs": [
    {
     "data": {
      "text/plain": "array([[0],\n       [0],\n       [1],\n       [1],\n       [1],\n       [0],\n       [1],\n       [0],\n       [1],\n       [1],\n       [1],\n       [1],\n       [1],\n       [0]], dtype=int64)"
     },
     "execution_count": 6,
     "metadata": {},
     "output_type": "execute_result"
    }
   ],
   "source": [
    "belief = np.array(belief)\n",
    "belief"
   ]
  },
  {
   "cell_type": "markdown",
   "id": "8ac26005",
   "metadata": {},
   "source": [
    "## Implement Prototype"
   ]
  },
  {
   "cell_type": "markdown",
   "id": "5f3b5b4d",
   "metadata": {},
   "source": [
    "Let's recall the *Naive Bayes Rule*. For $n$ independent evidences and $m$ mutual exclusive beliefs, we have: \n",
    "\n",
    "$$\n",
    "P(B_i|E) = \\frac{P(B_i) \\Pi^n P(e_n|B_i)}{\\Sigma^m (\\Pi^n P(e_n|B_m))}\n",
    "$$\n",
    "\n",
    "And since we are implementing a classifier, we **only care about which belief has the highest probability**, instead of caring about each belief's probability. Therefore, we can remove the denominator, and give the following equation: \n",
    "\n",
    "$$\n",
    "B = \\operatorname{argmax}_{B_i}{P(B_i) \\Pi^n P(e_n|B_i)}\n",
    "$$\n",
    "\n",
    "The notation $\\operatorname{argmax}_{i}f(i)$ finds the $i$ which gives the largest $f(x)$.\n",
    "\n",
    "Besides, let's recall how do we find the *prior probability* $P(B)$ and the *likelihood* $P(e|B)$. \n",
    "\n",
    "The prior probability $P(B)$ simply represents how likely a belief will happen on its own, i.e., $\\frac{f_B}{n}$, where $f_B$ is the frequency of the belief happens, and $n$ is the sample size. \n",
    "\n",
    "The likelihood $P(e|B)$ represents how likely an evidence will happen given that the belief happens, i.e., $\\frac{f_{e,B}}{f_{B}}$, where $f_{e,B}$ is the frequency of the evidence and belief both happen, and $f_B$ is the frequency of the belief happens.\n",
    "\n",
    "Let's write the code! "
   ]
  },
  {
   "cell_type": "markdown",
   "id": "c1b0ce25",
   "metadata": {},
   "source": [
    "First, let's calculate the prior probabilities for each belief. Here, the index of the array indicates the belief (0 -> False -> No Z; 1 -> True -> Yes Z) and the corresponding value indicates the prior probability for that belief."
   ]
  },
  {
   "cell_type": "code",
   "execution_count": 7,
   "id": "a9175626",
   "metadata": {
    "ExecuteTime": {
     "end_time": "2023-09-25T16:32:09.596802200Z",
     "start_time": "2023-09-25T16:32:09.463451Z"
    }
   },
   "outputs": [
    {
     "data": {
      "text/plain": "array([0.35714286, 0.64285714])"
     },
     "execution_count": 7,
     "metadata": {},
     "output_type": "execute_result"
    }
   ],
   "source": [
    "belief_frequencies = np.array([np.count_nonzero(belief == i) for i in range(2)])\n",
    "prior_probabilities = belief_frequencies / belief.size\n",
    "prior_probabilities"
   ]
  },
  {
   "cell_type": "markdown",
   "id": "e3ce190d5ce4d190",
   "metadata": {},
   "source": [
    "Second, let's calculate the likelihoods for the state-space. Beginning at the frequencies..."
   ]
  },
  {
   "cell_type": "code",
   "execution_count": 8,
   "id": "5322b597",
   "metadata": {
    "ExecuteTime": {
     "end_time": "2023-09-25T16:32:09.688573Z",
     "start_time": "2023-09-25T16:32:09.475457200Z"
    }
   },
   "outputs": [
    {
     "data": {
      "text/plain": "array([[[0, 2, 3],\n        [1, 2, 2],\n        [1, 4, 0],\n        [2, 3, 0]],\n\n       [[4, 3, 2],\n        [3, 4, 2],\n        [6, 3, 0],\n        [6, 3, 0]]])"
     },
     "execution_count": 8,
     "metadata": {},
     "output_type": "execute_result"
    }
   ],
   "source": [
    "# 2 beliefs; and\n",
    "# 4 evidences, each has up to 3 possible values.\n",
    "      \n",
    "likelihoods = np.array([np.count_nonzero(evidence[(belief == b).reshape(evidence.shape[0])][:, e] == v) \n",
    "                        for b in range(2) \n",
    "                        for e in range(4) \n",
    "                        for v in range(3)])\n",
    "likelihoods = likelihoods.reshape(2, 4, 3)\n",
    "likelihoods\n"
   ]
  },
  {
   "cell_type": "markdown",
   "id": "692fd9156608e6d6",
   "metadata": {},
   "source": [
    "Then the probabilities..."
   ]
  },
  {
   "cell_type": "code",
   "execution_count": 9,
   "id": "36f4734f952ccba6",
   "metadata": {
    "ExecuteTime": {
     "end_time": "2023-09-25T16:32:09.688573Z",
     "start_time": "2023-09-25T16:32:09.481768400Z"
    }
   },
   "outputs": [
    {
     "data": {
      "text/plain": "array([[[0.        , 0.4       , 0.6       ],\n        [0.2       , 0.4       , 0.4       ],\n        [0.2       , 0.8       , 0.        ],\n        [0.4       , 0.6       , 0.        ]],\n\n       [[0.44444444, 0.33333333, 0.22222222],\n        [0.33333333, 0.44444444, 0.22222222],\n        [0.66666667, 0.33333333, 0.        ],\n        [0.66666667, 0.33333333, 0.        ]]])"
     },
     "execution_count": 9,
     "metadata": {},
     "output_type": "execute_result"
    }
   ],
   "source": [
    "likelihoods = likelihoods.astype(np.float64)\n",
    "for i in range(2):\n",
    "    likelihoods[i, :, :] = likelihoods[i, :, :] / belief_frequencies[i]\n",
    "likelihoods"
   ]
  },
  {
   "cell_type": "markdown",
   "id": "803877f083a5f317",
   "metadata": {},
   "source": [
    "## Predicting"
   ]
  },
  {
   "cell_type": "markdown",
   "id": "fb4d0ebc39d53635",
   "metadata": {},
   "source": [
    "With the prior probabilities and the likelihoods, we can calculate the *score* for each belief, and choose the belief which has the largest score. That is, again: \n",
    "\n",
    "$$\n",
    "B = \\operatorname{argmax}_{B_i}{P(B_i) \\Pi^n P(e_n|B_i)}\n",
    "$$\n",
    "\n",
    "and therefore formula of the score is: \n",
    "\n",
    "$$\n",
    "\\mathrm{score} = P(B_i) \\Pi^n P(e_n|B_i)\n",
    "$$\n",
    "\n",
    "Given a patient: \n",
    "\n",
    "$$\n",
    "\\mathrm{(Blood Pressure, Fever, Diabetes, Vomit) = (High, No, Yes, Yes) = (2, 0, 1, 1)}\n",
    "$$\n",
    "\n",
    "Let's predict whether the patient is suffering from disease Z. "
   ]
  },
  {
   "cell_type": "markdown",
   "id": "b8e2115f5e2fb1c2",
   "metadata": {},
   "source": [
    "Here, we retrieve the corresponding likelihoods."
   ]
  },
  {
   "cell_type": "code",
   "execution_count": 10,
   "id": "4ef4418cb91e225a",
   "metadata": {
    "ExecuteTime": {
     "end_time": "2023-09-25T16:32:09.691785900Z",
     "start_time": "2023-09-25T16:32:09.490173700Z"
    }
   },
   "outputs": [
    {
     "data": {
      "text/plain": "array([[0.6       , 0.2       , 0.8       , 0.6       ],\n       [0.22222222, 0.33333333, 0.33333333, 0.33333333]])"
     },
     "execution_count": 10,
     "metadata": {},
     "output_type": "execute_result"
    }
   ],
   "source": [
    "patient = np.array([2, 0, 1, 1])\n",
    "scores = likelihoods[:, np.arange(4), patient]\n",
    "scores"
   ]
  },
  {
   "cell_type": "markdown",
   "id": "9d724946ad238147",
   "metadata": {},
   "source": [
    "Then calculate the product of each row."
   ]
  },
  {
   "cell_type": "code",
   "execution_count": 11,
   "id": "be8c7835572fec32",
   "metadata": {
    "ExecuteTime": {
     "end_time": "2023-09-25T16:32:09.716538Z",
     "start_time": "2023-09-25T16:32:09.498340500Z"
    }
   },
   "outputs": [
    {
     "data": {
      "text/plain": "array([0.0576    , 0.00823045])"
     },
     "execution_count": 11,
     "metadata": {},
     "output_type": "execute_result"
    }
   ],
   "source": [
    "scores = scores.prod(axis=-1)\n",
    "scores"
   ]
  },
  {
   "cell_type": "markdown",
   "id": "8cd96e71ee015b3e",
   "metadata": {},
   "source": [
    "Then multiply with the prior possibilities."
   ]
  },
  {
   "cell_type": "code",
   "execution_count": 12,
   "id": "9223747f2782ecf",
   "metadata": {
    "ExecuteTime": {
     "end_time": "2023-09-25T16:32:09.716538Z",
     "start_time": "2023-09-25T16:32:09.505318600Z"
    }
   },
   "outputs": [
    {
     "data": {
      "text/plain": "array([0.02057143, 0.00529101])"
     },
     "execution_count": 12,
     "metadata": {},
     "output_type": "execute_result"
    }
   ],
   "source": [
    "scores *= prior_probabilities\n",
    "scores"
   ]
  },
  {
   "cell_type": "markdown",
   "id": "690fabfa54ed0330",
   "metadata": {},
   "source": [
    "Find which belief gives the maximum score."
   ]
  },
  {
   "cell_type": "code",
   "execution_count": 13,
   "id": "f6e103e4db7fd4a2",
   "metadata": {
    "ExecuteTime": {
     "end_time": "2023-09-25T16:32:09.717554100Z",
     "start_time": "2023-09-25T16:32:09.512846900Z"
    }
   },
   "outputs": [
    {
     "data": {
      "text/plain": "0"
     },
     "execution_count": 13,
     "metadata": {},
     "output_type": "execute_result"
    }
   ],
   "source": [
    "np.argmax(scores, axis=0)"
   ]
  },
  {
   "cell_type": "markdown",
   "id": "c438d6b73f32a25",
   "metadata": {},
   "source": [
    "The answer is `0`! Stating that our patient is likely not suffering from disease Z! 🎉🎉🎉"
   ]
  }
 ],
 "metadata": {
  "kernelspec": {
   "display_name": "Python 3 (ipykernel)",
   "language": "python",
   "name": "python3"
  },
  "language_info": {
   "codemirror_mode": {
    "name": "ipython",
    "version": 3
   },
   "file_extension": ".py",
   "mimetype": "text/x-python",
   "name": "python",
   "nbconvert_exporter": "python",
   "pygments_lexer": "ipython3",
   "version": "3.11.5"
  }
 },
 "nbformat": 4,
 "nbformat_minor": 5
}
